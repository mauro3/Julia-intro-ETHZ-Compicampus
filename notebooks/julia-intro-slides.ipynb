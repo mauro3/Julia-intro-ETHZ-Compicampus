{
 "cells": [
  {
   "cell_type": "markdown",
   "source": [
    "# Introduction to Julia\n",
    "\n",
    "![julia-logo](./figures/l1_julia-logo.png)"
   ],
   "metadata": {
    "name": "A slide ",
    "slideshow": {
     "slide_type": "slide"
    }
   }
  },
  {
   "cell_type": "markdown",
   "source": [
    "# The team\n",
    "\n",
    "- Mauro Werder (@mauro3)\n",
    "  - glaciologist by day\n",
    "  - maintainer of a few Julia packages\n",
    "  - programming Julia since 2013\n",
    "- Ivan Utkin (@utkinis)\n",
    "  - glaciologist by night\n",
    "  - doing computational mechanics and HPC\n",
    "  - programming Julia since 2015"
   ],
   "metadata": {
    "name": "A slide ",
    "slideshow": {
     "slide_type": "slide"
    }
   }
  },
  {
   "cell_type": "markdown",
   "source": [
    "# The format\n",
    "\n",
    "Material is on GitHub https://github.com/mauro3/Julia-intro-ETHZ-Compicampus\n",
    "\n",
    "Structure:\n",
    "- this intro talk\n",
    "- quick intro on VS-Code editor\n",
    "- Hands-on on\n",
    "  - Julia basics\n",
    "  - package installations\n",
    "  - plotting\n",
    "- small project wrapping things up"
   ],
   "metadata": {
    "name": "A slide ",
    "slideshow": {
     "slide_type": "slide"
    }
   }
  },
  {
   "cell_type": "markdown",
   "source": [
    "## The Julia programming language\n",
    "\n",
    "[Julia](https://julialang.org/) is a modern, interactive, and high performance programming language.  It's a general purpose\n",
    "language with a bend on technical computing.\n",
    "\n",
    "![julia-logo](./figures/l1_julia-logo-repl.png)\n",
    "\n",
    "- first released in 2012\n",
    "- reached version 1.0 in 2018\n",
    "- current version 1.10.2 (04.2024)\n",
    "- thriving community, for instance there are currently around 11000 [packages registered](https://juliahub.com/ui/Packages)"
   ],
   "metadata": {
    "name": "A slide ",
    "slideshow": {
     "slide_type": "slide"
    }
   }
  },
  {
   "cell_type": "markdown",
   "source": [
    "### What does Julia look like\n",
    "\n",
    "An example solving the Lorenz system of ODEs:"
   ],
   "metadata": {
    "name": "A slide ",
    "slideshow": {
     "slide_type": "slide"
    }
   }
  },
  {
   "outputs": [],
   "cell_type": "code",
   "source": [
    "function lorenz(x)\n",
    "    σ = 10\n",
    "    β = 8/3\n",
    "    ρ = 28\n",
    "    [σ    * (x[2] - x[1]),\n",
    "     x[1] * (ρ - x[3]) - x[2],\n",
    "     x[1]*x[2] - β*x[3]]\n",
    "end\n",
    "\n",
    "# integrate dx/dt = lorenz(t,x) numerically for 500 steps\n",
    "dt = 0.01\n",
    "x₀ = [2.0, 0.0, 0.0]\n",
    "out = zeros(3, 500)\n",
    "out[:,1] = x₀\n",
    "for i=2:size(out,2)\n",
    "    out[:,i] = out[:,i-1] + lorenz(out[:,i-1]) * dt\n",
    "end"
   ],
   "metadata": {},
   "execution_count": null
  },
  {
   "cell_type": "markdown",
   "source": [
    "And its solution plotted"
   ],
   "metadata": {
    "name": "A slide ",
    "slideshow": {
     "slide_type": "slide"
    }
   }
  },
  {
   "outputs": [],
   "cell_type": "code",
   "source": [
    "using Plots\n",
    "plot(out[1,:], out[2,:], out[3,:])"
   ],
   "metadata": {},
   "execution_count": null
  },
  {
   "cell_type": "markdown",
   "source": [
    "### Julia in brief\n",
    "Julia 1.0 released 2018, now at version 1.10\n",
    "\n",
    "Features:\n",
    "- general purpose language with a focus on technical computing\n",
    "- dynamic language\n",
    "- interactive development\n",
    "- good performance on par with C & Fortran\n",
    "  - just-ahead-of-time compiled via [LLVM](https://en.wikipedia.org/wiki/LLVM)\n",
    "  - No need to vectorise: for loops are fast\n",
    "- multiple dispatch\n",
    "- user-defined types are as fast and compact as built-ins\n",
    "- Lisp-like macros and other metaprogramming facilities\n",
    "- designed for parallelism and distributed computation\n",
    "- good inter-op with other languages"
   ],
   "metadata": {
    "name": "A slide ",
    "slideshow": {
     "slide_type": "slide"
    }
   }
  },
  {
   "cell_type": "markdown",
   "source": [
    "### The two language problem\n",
    "\n",
    "**One language to prototype   --  one language for production**\n",
    "- example from a co-worker: prototype in Matlab, production in CUDA-C\n",
    "\n",
    "**One language for the users  --  one language for under-the-hood**\n",
    "- Numpy (python -- C)\n",
    "- machine-learning: pytorch, tensorflow"
   ],
   "metadata": {
    "name": "A slide ",
    "slideshow": {
     "slide_type": "slide"
    }
   }
  },
  {
   "cell_type": "markdown",
   "source": [
    "![](./figures/l1_ml.png)"
   ],
   "metadata": {
    "name": "A slide ",
    "slideshow": {
     "slide_type": "fragment"
    }
   }
  },
  {
   "cell_type": "markdown",
   "source": [
    "### The two language problem\n",
    "\n",
    "Prototype/interface language:\n",
    "- easy to learn and use\n",
    "- interactive\n",
    "- productive\n",
    "- --> *but slow*\n",
    "- Examples: Python, Matlab, R, IDL...\n",
    "\n",
    "Production/fast language:\n",
    "- fast\n",
    "- --> *but* complicated/verbose/not-interactive/etc\n",
    "- Examples: C, C++, Fortran, Java..."
   ],
   "metadata": {
    "name": "A slide ",
    "slideshow": {
     "slide_type": "slide"
    }
   }
  },
  {
   "cell_type": "markdown",
   "source": [
    "###  Julia solves the two-language problem (mostly)\n",
    "\n",
    "Julia is:\n",
    "- easy to learn and use\n",
    "- interactive\n",
    "- productive\n",
    "\n",
    "and also:\n",
    "- fast"
   ],
   "metadata": {
    "name": "A slide ",
    "slideshow": {
     "slide_type": "slide"
    }
   }
  },
  {
   "cell_type": "markdown",
   "source": [
    "![](./figures/l1_flux-vs-tensorflow.png)"
   ],
   "metadata": {
    "name": "A slide ",
    "slideshow": {
     "slide_type": "fragment"
    }
   }
  },
  {
   "cell_type": "markdown",
   "source": [
    "### Julia for HPC -- One of the reasons why we do Julia"
   ],
   "metadata": {
    "name": "A slide ",
    "slideshow": {
     "slide_type": "slide"
    }
   }
  },
  {
   "cell_type": "markdown",
   "source": [
    "<img src=\"./figures/l1_dynamics.png\" alt=\"predator-prey\" width=\"80%\"/>"
   ],
   "metadata": {
    "name": "A slide ",
    "slideshow": {
     "slide_type": "fragment"
    }
   }
  },
  {
   "cell_type": "markdown",
   "source": [
    "### Julia + GPU = 💜\n",
    "\n",
    "<img src=\"./figures/l1_stream.png\" alt=\"stream\" width=\"80%\"/>"
   ],
   "metadata": {
    "name": "A slide ",
    "slideshow": {
     "slide_type": "slide"
    }
   }
  },
  {
   "cell_type": "markdown",
   "source": [
    "### Scaling\n",
    "\n",
    "<img src=\"./figures/l1_scaling.png\" alt=\"scaling\" width=\"80%\"/>"
   ],
   "metadata": {
    "name": "A slide ",
    "slideshow": {
     "slide_type": "slide"
    }
   }
  },
  {
   "cell_type": "markdown",
   "source": [
    "###  Let's get our hands dirty!\n",
    "\n",
    "We will now look at\n",
    "- variables and types\n",
    "- control flow\n",
    "- functions\n",
    "- modules and packages"
   ],
   "metadata": {
    "name": "A slide ",
    "slideshow": {
     "slide_type": "slide"
    }
   }
  },
  {
   "cell_type": "markdown",
   "source": [
    "The documentation of Julia is good and can be found at [https://docs.julialang.org](https://docs.julialang.org); although for learning it might be a bit terse...\n",
    "\n",
    "There are also tutorials, see [https://julialang.org/learning/](https://julialang.org/learning/).\n",
    "\n",
    "Differences from other languages: [https://docs.julialang.org/en/v1/manual/noteworthy-differences/](https://docs.julialang.org/en/v1/manual/noteworthy-differences/)\n",
    "\n",
    "The community of Julia is helpful and active:\n",
    "- [discourse.julialang.org/](https://discourse.julialang.org/) is good for long form questions\n",
    "- (Stackoverflow is not used much)\n",
    "- there are chat servers (Zulip and Slack), see [julialang.org/community/](https://julialang.org/community/)\n",
    "\n",
    "Furthermore, documentation can be gotten with `?xyz`.  Try it (in Jupyter notebooks this needs to be in a cell of its own):"
   ],
   "metadata": {}
  },
  {
   "cell_type": "markdown",
   "source": [
    "###  But first a short de-tour: Visual Studio Code\n",
    "\n",
    "- nice, much used, open source editor [code.visualstudio.com/](https://code.visualstudio.com/)\n",
    "- good Julia integration [www.julia-vscode.org/](https://www.julia-vscode.org/)"
   ],
   "metadata": {
    "name": "A slide ",
    "slideshow": {
     "slide_type": "slide"
    }
   }
  }
 ],
 "nbformat_minor": 3,
 "metadata": {
  "language_info": {
   "file_extension": ".jl",
   "mimetype": "application/julia",
   "name": "julia",
   "version": "1.10.2"
  },
  "kernelspec": {
   "name": "julia-1.10",
   "display_name": "Julia 1.10.2",
   "language": "julia"
  }
 },
 "nbformat": 4
}
