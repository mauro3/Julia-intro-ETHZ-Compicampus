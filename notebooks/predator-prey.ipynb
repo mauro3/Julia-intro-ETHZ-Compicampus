{
 "cells": [
  {
   "cell_type": "markdown",
   "source": [
    "### 🔨 Hands-on II: implementing predator-prey model\n",
    "\n",
    "Let's do some scientific programming in Julia!"
   ],
   "metadata": {
    "name": "A slide ",
    "slideshow": {
     "slide_type": "slide"
    }
   }
  },
  {
   "cell_type": "markdown",
   "source": [
    "- we'll implement the so-called predator-prey model\n",
    "- it describes the dynamics of a biological system with two interacting species"
   ],
   "metadata": {
    "name": "A slide ",
    "slideshow": {
     "slide_type": "fragment"
    }
   }
  },
  {
   "cell_type": "markdown",
   "source": [
    "- a predator 🦊 ..."
   ],
   "metadata": {
    "name": "A slide ",
    "slideshow": {
     "slide_type": "fragment"
    }
   }
  },
  {
   "cell_type": "markdown",
   "source": [
    "- and a prey 🐰"
   ],
   "metadata": {
    "name": "A slide ",
    "slideshow": {
     "slide_type": "fragment"
    }
   }
  },
  {
   "cell_type": "markdown",
   "source": [
    "### Lotka-Volterra model\n",
    "\n",
    "The predator-prey system can be described as a system of ODEs, called a _Lotka-Volterra model_:\n",
    "\n",
    "$$\n",
    "\\frac{\\mathrm{d}}{\\mathrm{d}t}🐰 = \\alpha \\cdot 🐰 - \\beta \\cdot 🐰 \\cdot 🦊\n",
    "$$\n",
    "\n",
    "$$\n",
    "\\frac{\\mathrm{d}}{\\mathrm{d}t}🦊 = \\delta \\cdot 🐰 \\cdot 🦊 - \\gamma \\cdot 🦊\n",
    "$$\n",
    "\n",
    "- $\\alpha$ and $\\gamma$ are prey's growth rate and predator's death rate\n",
    "- $\\beta$ and $\\delta$ are interaction parameters between species"
   ],
   "metadata": {
    "name": "A slide ",
    "slideshow": {
     "slide_type": "slide"
    }
   }
  },
  {
   "cell_type": "markdown",
   "source": [
    "### Expected output\n",
    "\n",
    "<center><img src=\"./figures/l1_predator-prey.png\" alt=\"predator-prey\" width=\"50%\"/><center/>"
   ],
   "metadata": {
    "name": "A slide ",
    "slideshow": {
     "slide_type": "slide"
    }
   }
  },
  {
   "cell_type": "markdown",
   "source": [
    "### Tasks\n",
    "\n",
    "1. Implement the right-hand side of Lotka-Volterra system inside the functions `dx_dt`, `dx_dt`, and `predator_prey`\n",
    "\n",
    "2. Implement the time integration loop within a single cell\n",
    "    1. Measure the execution time with the `@time` macro\n",
    "    2. Experiment with the time step by changing `nt`, see how the solution changes with decreasing `Δt`\n",
    "\n",
    "    > The implementation is very similar to the one for the Lorenz attractor from the introduction"
   ],
   "metadata": {
    "name": "A slide ",
    "slideshow": {
     "slide_type": "slide"
    }
   }
  },
  {
   "cell_type": "markdown",
   "source": [
    "3. Implement non-allocating version of the time integration in the function `integrate!`\n",
    "    1. Split the line within the time loop into two, updating the population of each species independently\n",
    "    2. Call `integrate!`, time the results with the `@time` macro, compare to the execution time in the global scope\n",
    "    3. Replace `out[it-1, 1]` with `out[it, 1]` in the second line (update rule for `out[it, 2]`) to make the integration semi-implicit"
   ],
   "metadata": {
    "name": "A slide ",
    "slideshow": {
     "slide_type": "slide"
    }
   }
  },
  {
   "cell_type": "markdown",
   "source": [
    "Let's introduce physical parameters:"
   ],
   "metadata": {
    "name": "A slide ",
    "slideshow": {
     "slide_type": "slide"
    }
   }
  },
  {
   "outputs": [],
   "cell_type": "code",
   "source": [
    "using CairoMakie, BenchmarkTools\n",
    "\n",
    "# parameters\n",
    "α = 1.1\n",
    "β = 0.4\n",
    "γ = 0.4\n",
    "δ = 0.1\n",
    "\n",
    "# total time of integration\n",
    "ttot = 100.0"
   ],
   "metadata": {},
   "execution_count": null
  },
  {
   "cell_type": "markdown",
   "source": [
    "Then numerics:"
   ],
   "metadata": {
    "name": "A slide ",
    "slideshow": {
     "slide_type": "fragment"
    }
   }
  },
  {
   "outputs": [],
   "cell_type": "code",
   "source": [
    "nt = 1000 # increase the number of time steps to get more accurate results\n",
    "Δt = ttot / nt"
   ],
   "metadata": {},
   "execution_count": null
  },
  {
   "cell_type": "markdown",
   "source": [
    "And initial conditions:"
   ],
   "metadata": {
    "name": "A slide ",
    "slideshow": {
     "slide_type": "fragment"
    }
   }
  },
  {
   "outputs": [],
   "cell_type": "code",
   "source": [
    "x0, y0 = 10.0, 10.0"
   ],
   "metadata": {},
   "execution_count": null
  },
  {
   "cell_type": "markdown",
   "source": [
    "Allocate arrays to store both explicit and semi-implicit solutions"
   ],
   "metadata": {
    "name": "A slide ",
    "slideshow": {
     "slide_type": "slide"
    }
   }
  },
  {
   "outputs": [],
   "cell_type": "code",
   "source": [
    "out1 = zeros(nt + 1, 2)\n",
    "out2 = zeros(nt + 1, 2)"
   ],
   "metadata": {},
   "execution_count": null
  },
  {
   "cell_type": "markdown",
   "source": [
    "Let's implement the Lotka-Volterra equations:"
   ],
   "metadata": {
    "name": "A slide ",
    "slideshow": {
     "slide_type": "slide"
    }
   }
  },
  {
   "outputs": [],
   "cell_type": "code",
   "source": [
    "dx_dt(x, y, α, β) = ...\n",
    "dy_dt(x, y, γ, δ) = ...\n",
    "\n",
    "predator_prey(x, y, α, β, γ, δ) = ..., ..."
   ],
   "metadata": {},
   "execution_count": null
  },
  {
   "cell_type": "markdown",
   "source": [
    "Now we can solve ODEs in global scope using explicit Euler integration:"
   ],
   "metadata": {
    "name": "A slide ",
    "slideshow": {
     "slide_type": "slide"
    }
   }
  },
  {
   "outputs": [],
   "cell_type": "code",
   "source": [
    "out1[1, :] .= x0, y0\n",
    "@time for it in 2:nt+1\n",
    "    df_dt = ...\n",
    "    out1[it, :] .= ...\n",
    "end"
   ],
   "metadata": {},
   "execution_count": null
  },
  {
   "cell_type": "markdown",
   "source": [
    "Visualise the results:"
   ],
   "metadata": {
    "name": "A slide ",
    "slideshow": {
     "slide_type": "slide"
    }
   }
  },
  {
   "outputs": [],
   "cell_type": "code",
   "source": [
    "fig = Figure()\n",
    "\n",
    "ax1 = Axis(fig[1, 1]; xlabel=\"time\", ylabel=\"population\", title=\"explicit Euler\")\n",
    "\n",
    "t1 = range(0, ttot, nt + 1)\n",
    "\n",
    "series!(ax1, t1, out1'; labels=[\"prey\", \"predator\"]);\n",
    "axislegend(ax1);\n",
    "\n",
    "fig"
   ],
   "metadata": {},
   "execution_count": null
  },
  {
   "cell_type": "markdown",
   "source": [
    "Well done! 🚀\n",
    "\n",
    "However, the results don't look quite like we expect, both predator and prey populations seem to grow over time!"
   ],
   "metadata": {
    "name": "A slide ",
    "slideshow": {
     "slide_type": "slide"
    }
   }
  },
  {
   "cell_type": "markdown",
   "source": [
    "👉 Try to increase the number of time steps to `nt = 10000` and verify that the solution becomes more accurate."
   ],
   "metadata": {
    "name": "A slide ",
    "slideshow": {
     "slide_type": "fragment"
    }
   }
  },
  {
   "cell_type": "markdown",
   "source": [
    "Now let's implement the `integrate!` function. Use a `for` loop to avoid memory allocations:"
   ],
   "metadata": {
    "name": "A slide ",
    "slideshow": {
     "slide_type": "slide"
    }
   }
  },
  {
   "outputs": [],
   "cell_type": "code",
   "source": [
    "function integrate!(out, x0, y0, α, β, γ, δ, Δt, nt)\n",
    "    out[1, :] .= x0, y0\n",
    "    for it in 2:nt+1\n",
    "        out[it, 1] = ...\n",
    "        out[it, 2] = ...\n",
    "    end\n",
    "    t = range(0, nt * Δt, nt + 1)\n",
    "    return t, out\n",
    "end"
   ],
   "metadata": {},
   "execution_count": null
  },
  {
   "cell_type": "markdown",
   "source": [
    "Solve the same ODEs using the `integrate!` function and time the results:"
   ],
   "metadata": {
    "name": "A slide ",
    "slideshow": {
     "slide_type": "slide"
    }
   }
  },
  {
   "outputs": [],
   "cell_type": "code",
   "source": [
    "# ..."
   ],
   "metadata": {},
   "execution_count": null
  },
  {
   "cell_type": "markdown",
   "source": [
    "Make sure that the results are the same:"
   ],
   "metadata": {
    "name": "A slide ",
    "slideshow": {
     "slide_type": "fragment"
    }
   }
  },
  {
   "outputs": [],
   "cell_type": "code",
   "source": [
    "@assert maximum(abs.(out1 .- out2)) < eps()"
   ],
   "metadata": {},
   "execution_count": null
  },
  {
   "cell_type": "markdown",
   "source": [
    "There is a simple trick to make the solution much more accurate without increasing the resolution too much.\n",
    "\n",
    "First, revert `nt` to 1000 and re-run the previous simulation.\n",
    "\n",
    "👉 Next, make a small modification to make the time integration semi-implicit:"
   ],
   "metadata": {
    "name": "A slide ",
    "slideshow": {
     "slide_type": "slide"
    }
   }
  },
  {
   "outputs": [],
   "cell_type": "code",
   "source": [
    "function integrate_si!(out, x0, y0, α, β, γ, δ, Δt, nt)\n",
    "    out[1, :] .= x0, y0\n",
    "    for it in 2:nt+1\n",
    "        out[it, 1] = ...\n",
    "        # hint: use the freshly computed value of x from the current time step\n",
    "        # and the value of y from the previous time step\n",
    "        out[it, 2] = ...\n",
    "    end\n",
    "    t = range(0, nt * Δt, nt + 1)\n",
    "    return t, out\n",
    "end"
   ],
   "metadata": {},
   "execution_count": null
  },
  {
   "cell_type": "markdown",
   "source": [
    "Re-run the code and add another panel with the results:"
   ],
   "metadata": {
    "name": "A slide ",
    "slideshow": {
     "slide_type": "slide"
    }
   }
  },
  {
   "outputs": [],
   "cell_type": "code",
   "source": [
    "@time t2, out2 = integrate_si!(...)\n",
    "\n",
    "ax2 = Axis(fig[1, 2]; xlabel=\"time\", ylabel=\"population\", title=\"semi-implicit Euler\")\n",
    "series!(...; labels=[\"prey\", \"predator\"])\n",
    "axislegend(ax2)\n",
    "\n",
    "fig"
   ],
   "metadata": {},
   "execution_count": null
  },
  {
   "cell_type": "markdown",
   "source": [
    "Much better, huh? Other way to explore the solutions to ODEs is visualising phase portraits:"
   ],
   "metadata": {
    "name": "A slide ",
    "slideshow": {
     "slide_type": "slide"
    }
   }
  },
  {
   "outputs": [],
   "cell_type": "code",
   "source": [
    "ax3 = Axis(fig[2, 1]; xlabel=\"prey\", ylabel=\"predator\")\n",
    "ax4 = Axis(fig[2, 2]; xlabel=\"prey\", ylabel=\"predator\")\n",
    "\n",
    "lines!(...)\n",
    "lines!(...)\n",
    "\n",
    "fig"
   ],
   "metadata": {},
   "execution_count": null
  },
  {
   "cell_type": "markdown",
   "source": [
    "Finally, let's benchmark the `integrate_si!` function (hint: use `@benchmark` macro and prepend each argument with '$')"
   ],
   "metadata": {
    "name": "A slide ",
    "slideshow": {
     "slide_type": "slide"
    }
   }
  },
  {
   "outputs": [],
   "cell_type": "code",
   "source": [
    "..."
   ],
   "metadata": {},
   "execution_count": null
  }
 ],
 "nbformat_minor": 3,
 "metadata": {
  "language_info": {
   "file_extension": ".jl",
   "mimetype": "application/julia",
   "name": "julia",
   "version": "1.12.1"
  },
  "kernelspec": {
   "name": "julia-1.12",
   "display_name": "Julia 1.12.1",
   "language": "julia"
  }
 },
 "nbformat": 4
}