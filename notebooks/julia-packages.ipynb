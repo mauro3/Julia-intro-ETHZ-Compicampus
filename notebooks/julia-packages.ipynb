{
 "cells": [
  {
   "cell_type": "markdown",
   "source": [
    "## Modules and packages\n",
    "\n",
    "Modules can be used to structure code into larger entities, and be used to divide it into\n",
    "different name spaces.  We will not look into those, but if interested see\n",
    "[https://docs.julialang.org/en/v1/manual/modules/](https://docs.julialang.org/en/v1/manual/modules/)\n",
    "\n",
    "**Packages** are the way people distribute code and we'll make use of them extensively.\n",
    "In the first example, the Lorenz ODE, you saw\n",
    "```\n",
    "using CairoMakie\n",
    "```\n",
    "This statement loads the package `GLMakie`, a plotting package, and makes its functions\n",
    "and types available in the current session and use it like so:"
   ],
   "metadata": {
    "name": "A slide ",
    "slideshow": {
     "slide_type": "slide"
    }
   }
  },
  {
   "outputs": [],
   "cell_type": "code",
   "source": [
    "using CairoMakie       # --> this will likely error because GLMakie is not installed!\n",
    "plot( (1:10).^2 )"
   ],
   "metadata": {},
   "execution_count": null
  },
  {
   "cell_type": "markdown",
   "source": [
    "### Packages\n",
    "\n",
    "All public Julia packages are listed on [https://juliahub.com/ui/Packages](https://juliahub.com/ui/Packages).\n",
    "\n",
    "Let's install `CairoMakie.jl`\n",
    "\n",
    "- go to the REPL\n",
    "- hit `]` --> the puts you into the package mode\n",
    "- `add CairoMakie` will add the package\n",
    "- backspace will get you back to the normal `julia>` prompt\n",
    "\n",
    "This will take some time...\n",
    "\n",
    "Try again plotting"
   ],
   "metadata": {
    "name": "A slide ",
    "slideshow": {
     "slide_type": "subslide"
    }
   }
  },
  {
   "outputs": [],
   "cell_type": "code",
   "source": [
    "using ...\n",
    "plot( (1:10).^2 )"
   ],
   "metadata": {},
   "execution_count": null
  },
  {
   "cell_type": "markdown",
   "source": [
    "### Environments / Projects (those are use quite interchangeably...)\n",
    "\n",
    "The `CairoMakie.jl` package, you installed into the global environment (ok, depending on how you got the files, VSCode may have used the environment defined for this git-repository [https://github.com/mauro3/Julia-intro-ETHZ-Compicampus/blob/main/Project.toml](https://github.com/mauro3/Julia-intro-ETHZ-Compicampus/blob/main/Project.toml)).  In general, it's best to\n",
    "install most packages into a \"environment\" which you just use for a particular project.  The\n",
    "project itself housed within a folder.\n",
    "\n",
    "To create an environment within VS-Code:\n",
    "- create a folder in the side bar `TmpProj`\n",
    "- right click on it in the side bar to:\n",
    "  - \"Julia: Change to this directory\"\n",
    "  - \"Julia: Activate this Environment\"\n",
    "- in the REPL hit `]`\n",
    "\n",
    "Why don't you install `UnPack` in this environment.\n",
    "- -> note the two files which were created in this folder: this is where Julia stores the\n",
    "  Information about the Environment\n",
    "\n",
    "\n",
    "Refs:\n",
    "- [https://docs.julialang.org/en/v1/manual/code-loading/#Environments](https://docs.julialang.org/en/v1/manual/code-loading/#Environments)\n",
    "- [https://docs.julialang.org/en/v1/stdlib/Pkg/](https://docs.julialang.org/en/v1/stdlib/Pkg/)"
   ],
   "metadata": {
    "name": "A slide ",
    "slideshow": {
     "slide_type": "subslide"
    }
   }
  }
 ],
 "nbformat_minor": 3,
 "metadata": {
  "language_info": {
   "file_extension": ".jl",
   "mimetype": "application/julia",
   "name": "julia",
   "version": "1.12.1"
  },
  "kernelspec": {
   "name": "julia-1.12",
   "display_name": "Julia 1.12.1",
   "language": "julia"
  }
 },
 "nbformat": 4
}