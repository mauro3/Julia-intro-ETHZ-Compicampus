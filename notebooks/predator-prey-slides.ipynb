{
 "cells": [
  {
   "cell_type": "markdown",
   "source": [
    "# 🔨 Hands-on II: implementing predator-prey model\n",
    "\n",
    "Let's do some scientific programming in Julia!"
   ],
   "metadata": {
    "name": "A slide ",
    "slideshow": {
     "slide_type": "slide"
    }
   }
  },
  {
   "cell_type": "markdown",
   "source": [
    "- we'll implement the so-called predator-prey model\n",
    "- it describes the dynamics of a biological system with two interacting species"
   ],
   "metadata": {
    "name": "A slide ",
    "slideshow": {
     "slide_type": "fragment"
    }
   }
  },
  {
   "cell_type": "markdown",
   "source": [
    "- a predator 🦊 ..."
   ],
   "metadata": {
    "name": "A slide ",
    "slideshow": {
     "slide_type": "fragment"
    }
   }
  },
  {
   "cell_type": "markdown",
   "source": [
    "- and a prey 🐰"
   ],
   "metadata": {
    "name": "A slide ",
    "slideshow": {
     "slide_type": "fragment"
    }
   }
  },
  {
   "cell_type": "markdown",
   "source": [
    "# Lotka-Volterra model\n",
    "\n",
    "The predator-prey system can be described as a system of ODEs, called a _Lotka-Volterra model_:\n",
    "\n",
    "$$\n",
    "\\frac{\\mathrm{d}}{\\mathrm{d}t}🐰 = \\alpha \\cdot 🐰 - \\beta \\cdot 🐰 \\cdot 🦊\n",
    "$$\n",
    "\n",
    "$$\n",
    "\\frac{\\mathrm{d}}{\\mathrm{d}t}🦊 = \\delta \\cdot 🐰 \\cdot 🦊 - \\gamma \\cdot 🦊\n",
    "$$\n",
    "\n",
    "- $\\alpha$ and $\\gamma$ are prey's growth rate and predator's death rate\n",
    "- $\\beta$ and $\\delta$ are interaction parameters between species"
   ],
   "metadata": {
    "name": "A slide ",
    "slideshow": {
     "slide_type": "slide"
    }
   }
  },
  {
   "cell_type": "markdown",
   "source": [
    "# Expected output\n",
    "\n",
    "<img src=\"./figures/l1_predator-prey.png\" alt=\"predator-prey\" width=\"80%\"/>"
   ],
   "metadata": {
    "name": "A slide ",
    "slideshow": {
     "slide_type": "slide"
    }
   }
  }
 ],
 "nbformat_minor": 3,
 "metadata": {
  "language_info": {
   "file_extension": ".jl",
   "mimetype": "application/julia",
   "name": "julia",
   "version": "1.10.2"
  },
  "kernelspec": {
   "name": "julia-1.10",
   "display_name": "Julia 1.10.2",
   "language": "julia"
  }
 },
 "nbformat": 4
}
