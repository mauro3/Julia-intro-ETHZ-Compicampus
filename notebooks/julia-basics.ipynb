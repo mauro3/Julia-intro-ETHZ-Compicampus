{
 "cells": [
  {
   "cell_type": "markdown",
   "metadata": {
    "name": "A slide ",
    "slideshow": {
     "slide_type": "slide"
    }
   },
   "source": [
    "###  Let's get our hands dirty!\n",
    "\n",
    "We will now look at\n",
    "- variables and types\n",
    "- control flow\n",
    "- functions\n",
    "- modules and packages"
   ]
  },
  {
   "cell_type": "markdown",
   "metadata": {},
   "source": [
    "The documentation of Julia is good and can be found at [https://docs.julialang.org](https://docs.julialang.org); although for learning it might be a bit terse...\n",
    "\n",
    "There are also tutorials, see [https://julialang.org/learning/](https://julialang.org/learning/).\n",
    "\n",
    "Furthermore, documentation can be gotten with `?xyz`.  Try it (in Jupyter notebooks this needs to be in a cell of its own):"
   ]
  },
  {
   "cell_type": "code",
   "execution_count": null,
   "metadata": {},
   "outputs": [],
   "source": [
    "# ?cos"
   ]
  },
  {
   "cell_type": "markdown",
   "metadata": {
    "name": "A slide ",
    "slideshow": {
     "slide_type": "slide"
    }
   },
   "source": [
    "## Variables, assignments, and types [5min]\n",
    "[https://docs.julialang.org/en/v1/manual/variables/](https://docs.julialang.org/en/v1/manual/variables/)"
   ]
  },
  {
   "cell_type": "code",
   "execution_count": null,
   "metadata": {},
   "outputs": [],
   "source": [
    "a = 4\n",
    "b = \"a string\"\n",
    "c = b # now b and c bind to the same value"
   ]
  },
  {
   "cell_type": "markdown",
   "metadata": {},
   "source": [
    "Conventions:\n",
    "- variables are (usually) lowercase, words can be separated by `_`\n",
    "- function names are lowercase\n",
    "- modules, packages and types are in CamelCase"
   ]
  },
  {
   "cell_type": "markdown",
   "metadata": {
    "name": "A slide ",
    "slideshow": {
     "slide_type": "slide"
    }
   },
   "source": [
    "### Variables: Unicode\n",
    "From [https://docs.julialang.org/en/v1/manual/variables/](https://docs.julialang.org/en/v1/manual/variables/):\n",
    "\n",
    "Unicode names (in UTF-8 encoding) are allowed and typed in LaTeX notation.  Try making a variable\n",
    "- `δ = 99` with `\\delta`+tab\n",
    "- `x² = 25` with `x\\^2`+tab"
   ]
  },
  {
   "cell_type": "code",
   "execution_count": null,
   "metadata": {},
   "outputs": [],
   "source": [
    "#"
   ]
  },
  {
   "cell_type": "markdown",
   "metadata": {
    "name": "A slide ",
    "slideshow": {
     "slide_type": "slide"
    }
   },
   "source": [
    "### Basic datatypes\n",
    "- numbers (Ints, Floats, Complex, etc.)\n",
    "- strings\n",
    "- tuples\n",
    "- arrays\n",
    "- dictionaries"
   ]
  },
  {
   "cell_type": "code",
   "execution_count": null,
   "metadata": {},
   "outputs": [],
   "source": [
    "1     # 64 bit integer (or 32 bit if on a 32-bit OS)\n",
    "1.5   # Float64\n",
    "1//2  # Rational"
   ]
  },
  {
   "cell_type": "code",
   "execution_count": null,
   "metadata": {},
   "outputs": [],
   "source": [
    "typeof(1.5)"
   ]
  },
  {
   "cell_type": "code",
   "execution_count": null,
   "metadata": {},
   "outputs": [],
   "source": [
    "\"a string\", (1, 3.5) # and tuple"
   ]
  },
  {
   "cell_type": "code",
   "execution_count": null,
   "metadata": {},
   "outputs": [],
   "source": [
    "[1, 2, 3,] # array of eltype Int"
   ]
  },
  {
   "cell_type": "code",
   "execution_count": null,
   "metadata": {},
   "outputs": [],
   "source": [
    "Dict(\"a\"=>1, \"b\"=>cos)"
   ]
  },
  {
   "cell_type": "markdown",
   "metadata": {
    "name": "A slide ",
    "slideshow": {
     "slide_type": "slide"
    }
   },
   "source": [
    "## Array exercises [3min]\n",
    "\n",
    "Arrays are the bread and butter of science...\n",
    "\n",
    "- indexing starts at 1\n",
    "- uses `[]`\n",
    "- in Julia they are column-major (like in Matlab, unlike Python)"
   ]
  },
  {
   "cell_type": "markdown",
   "metadata": {},
   "source": [
    "Task: assign vectors to `a`, and `b` and the concatenate them using `;`:"
   ]
  },
  {
   "cell_type": "code",
   "execution_count": null,
   "metadata": {},
   "outputs": [],
   "source": [
    "a = [2, 3]\n",
    "b = ...\n",
    "[ ; ]"
   ]
  },
  {
   "cell_type": "markdown",
   "metadata": {},
   "source": [
    "Add new elements to the end of Vector `b` (hint look up the documentation for `push!`)"
   ]
  },
  {
   "cell_type": "code",
   "execution_count": null,
   "metadata": {},
   "outputs": [],
   "source": [
    "# ?push!"
   ]
  },
  {
   "cell_type": "markdown",
   "metadata": {
    "name": "A slide ",
    "slideshow": {
     "slide_type": "subslide"
    }
   },
   "source": [
    "### Side note: the !-notation\n",
    "\n",
    "By convention, functions named ending with `!` are mutating functions.\n",
    "\n",
    "Thus `push!(A, 4)` will update `A` to contain also the element `4`.\n",
    "\n",
    "Note that the `!` is just part of the name, it's not special syntax (unlike the `.` which you'll\n",
    "encounter further down)"
   ]
  },
  {
   "cell_type": "markdown",
   "metadata": {
    "name": "A slide ",
    "slideshow": {
     "slide_type": "subslide"
    }
   },
   "source": [
    "### Array exercise: indexing\n",
    "\n",
    "Access element `[1,2]` and `[2,1]` of Matrix `a` (hint use []):"
   ]
  },
  {
   "cell_type": "code",
   "execution_count": null,
   "metadata": {},
   "outputs": [],
   "source": [
    "a = rand(3,4)\n",
    "a[ ... ], a[ ... ]"
   ]
  },
  {
   "cell_type": "markdown",
   "metadata": {},
   "source": [
    "Linear vs Cartesian indexing,\n",
    "access the first element:"
   ]
  },
  {
   "cell_type": "code",
   "execution_count": null,
   "metadata": {},
   "outputs": [],
   "source": [
    "a[1]\n",
    "a[1,1]"
   ]
  },
  {
   "cell_type": "markdown",
   "metadata": {},
   "source": [
    "Access the last element (look up `?end`) both with linear and Cartesian indices"
   ]
  },
  {
   "cell_type": "code",
   "execution_count": null,
   "metadata": {},
   "outputs": [],
   "source": [
    "a[...]\n",
    "a[..., ...]"
   ]
  },
  {
   "cell_type": "markdown",
   "metadata": {
    "name": "A slide ",
    "slideshow": {
     "slide_type": "subslide"
    }
   },
   "source": [
    "### Array exercise: indexing by ranges\n",
    "\n",
    "Access the last row of `a` (hint use `1:end`)"
   ]
  },
  {
   "cell_type": "code",
   "execution_count": null,
   "metadata": {},
   "outputs": [],
   "source": [
    "a[... , ...]"
   ]
  },
  {
   "cell_type": "markdown",
   "metadata": {},
   "source": [
    "Access a 2x2 sub-matrix"
   ]
  },
  {
   "cell_type": "code",
   "execution_count": null,
   "metadata": {},
   "outputs": [],
   "source": [
    "a[ ]"
   ]
  },
  {
   "cell_type": "markdown",
   "metadata": {
    "name": "A slide ",
    "slideshow": {
     "slide_type": "subslide"
    }
   },
   "source": [
    "### A small detour: types\n",
    "\n",
    "All values have types.  Arrays store in their type what type the elements can be.\n",
    "\n",
    "> Arrays which have concrete element-types are more performant!"
   ]
  },
  {
   "cell_type": "code",
   "execution_count": null,
   "metadata": {},
   "outputs": [],
   "source": [
    "typeof([1, 2]), typeof([1.0, 2.0])"
   ]
  },
  {
   "cell_type": "markdown",
   "metadata": {},
   "source": [
    "Aside, they also store their dimension in the second parameter.\n",
    "\n",
    "The type can be specified at creation"
   ]
  },
  {
   "cell_type": "code",
   "execution_count": null,
   "metadata": {},
   "outputs": [],
   "source": [
    "String[\"one\", \"two\"]"
   ]
  },
  {
   "cell_type": "markdown",
   "metadata": {},
   "source": [
    "Create an array taking `Int` with no elements.  Push `1`, `1.0` and `1.5` to it.  What happens?"
   ]
  },
  {
   "cell_type": "code",
   "execution_count": null,
   "metadata": {},
   "outputs": [],
   "source": [
    "#"
   ]
  },
  {
   "cell_type": "markdown",
   "metadata": {},
   "source": [
    "Make an array of type `Any` (which can store any value).  Push a value of type\n",
    "Int and one of type String to it."
   ]
  },
  {
   "cell_type": "code",
   "execution_count": null,
   "metadata": {},
   "outputs": [],
   "source": [
    "#"
   ]
  },
  {
   "cell_type": "markdown",
   "metadata": {
    "name": "A slide ",
    "slideshow": {
     "slide_type": "slide"
    }
   },
   "source": [
    "## Control flow\n",
    "\n",
    "Julia provides a variety of [control flow constructs](https://docs.julialang.org/en/v1/manual/control-flow/), of which we look at:\n",
    "\n",
    "  * [Conditional Evaluation](https://docs.julialang.org/en/v1/manual/control-flow/#man-conditional-evaluation): `if`-`elseif`-`else` and `?:` (ternary operator).\n",
    "  * [Short-Circuit Evaluation](https://docs.julialang.org/en/v1/manual/control-flow/#Short-Circuit-Evaluation): logical operators `&&` (“and”) and `||` (“or”), and also chained comparisons.\n",
    "  * [Repeated Evaluation: Loops](https://docs.julialang.org/en/v1/manual/control-flow/#man-loops): `while` and `for`."
   ]
  },
  {
   "cell_type": "markdown",
   "metadata": {
    "name": "A slide ",
    "slideshow": {
     "slide_type": "slide"
    }
   },
   "source": [
    "### Conditional evaluation\n",
    "[https://docs.julialang.org/en/v1/manual/control-flow/#man-conditional-evaluation](https://docs.julialang.org/en/v1/manual/control-flow/#man-conditional-evaluation)\n",
    "\n",
    "if-blocks"
   ]
  },
  {
   "cell_type": "code",
   "execution_count": null,
   "metadata": {},
   "outputs": [],
   "source": [
    "a = 77\n",
    "if a==45\n",
    "    println(\"Hi\")\n",
    "elseif a==77\n",
    "    println(\"Hello\")\n",
    "else\n",
    "    println(\"Grüss Gott\")\n",
    "end"
   ]
  },
  {
   "cell_type": "markdown",
   "metadata": {
    "name": "A slide ",
    "slideshow": {
     "slide_type": "subslide"
    }
   },
   "source": [
    "### Conditional evaluation: the \"ternary operator\" `?`"
   ]
  },
  {
   "cell_type": "code",
   "execution_count": null,
   "metadata": {},
   "outputs": [],
   "source": [
    "a = 1\n",
    "a > 5 ? \"really big\" : \"not so big\""
   ]
  },
  {
   "cell_type": "markdown",
   "metadata": {
    "name": "A slide ",
    "slideshow": {
     "slide_type": "slide"
    }
   },
   "source": [
    "### Short circuit operators `&&` and `||`\n",
    "\n",
    "[https://docs.julialang.org/en/v1/manual/control-flow/#Short-Circuit-Evaluation](https://docs.julialang.org/en/v1/manual/control-flow/#Short-Circuit-Evaluation)\n",
    "\n",
    "Relatively often used in Julia:\n",
    "```\n",
    "a < 0 && error(\"Not valid input for `a`\")\n",
    "```"
   ]
  },
  {
   "cell_type": "markdown",
   "metadata": {
    "name": "A slide ",
    "slideshow": {
     "slide_type": "slide"
    }
   },
   "source": [
    "### Loops: `for` and `while`\n",
    "\n",
    "[https://docs.julialang.org/en/v1/manual/control-flow/#man-loops](https://docs.julialang.org/en/v1/manual/control-flow/#man-loops)"
   ]
  },
  {
   "cell_type": "code",
   "execution_count": null,
   "metadata": {},
   "outputs": [],
   "source": [
    "for i = 1:3\n",
    "    println(i)\n",
    "end\n",
    "\n",
    "for i in [\"dog\", \"cat\"] ## `in` and `=` are equivalent for writing loops\n",
    "    println(i)\n",
    "end\n",
    "\n",
    "i = 1\n",
    "while i<4\n",
    "    println(i)\n",
    "    i += 1\n",
    "end"
   ]
  },
  {
   "cell_type": "markdown",
   "metadata": {
    "name": "A slide ",
    "slideshow": {
     "slide_type": "slide"
    }
   },
   "source": [
    "## Functions\n",
    "\n",
    "Functions can be defined in Julia in a number of ways.  In particular there is one variant\n",
    "more suited to longer definitions, and one for one-liners:\n",
    "\n",
    "```\n",
    "function f(a, b)\n",
    "   return a * b\n",
    "end\n",
    "f(a, b) = a * b\n",
    "```\n",
    "\n",
    "Defining many, short functions is typical in good Julia code.\n",
    "\n",
    "See [https://docs.julialang.org/en/v1/manual/functions/](https://docs.julialang.org/en/v1/manual/functions/)"
   ]
  },
  {
   "cell_type": "markdown",
   "metadata": {
    "name": "A slide ",
    "slideshow": {
     "slide_type": "subslide"
    }
   },
   "source": [
    "### Functions: exercises [5min]\n",
    "\n",
    "Define a function `fn` in long-form which takes two arguments and multiplies them"
   ]
  },
  {
   "cell_type": "code",
   "execution_count": null,
   "metadata": {},
   "outputs": [],
   "source": [
    "#\n",
    "\n",
    "# it should pass this thest\n",
    "a, b = rand(4,5), 7\n",
    "@assert fn(a,b) == a*b"
   ]
  },
  {
   "cell_type": "markdown",
   "metadata": {
    "name": "A slide ",
    "slideshow": {
     "slide_type": "subslide"
    }
   },
   "source": [
    "### Side note: macros `@`\n",
    "\n",
    "The `@assert` is a macro call.  Macros take code and return new code which is then executed.\n",
    "For you as a user these are pretty intuitive to use and are indeed often used in Julia.\n",
    "Defining them is beyond the scope of this short course"
   ]
  },
  {
   "cell_type": "markdown",
   "metadata": {
    "name": "A slide ",
    "slideshow": {
     "slide_type": "subslide"
    }
   },
   "source": [
    "### Functions: dot-syntax *IMPORTANT*\n",
    "\n",
    "Functions which are scalar functions in maths, say `cos`, are only defined for scalars in Julia!\n",
    "\n",
    "To apply them element-wise to vectors use `cos.([1,2])`.\n",
    "\n",
    "Similarly the dot also works for infix functions, say `.+`.\n",
    "\n",
    "Exercise: apply the `sin` function to a vector `1:10` and add `7`:"
   ]
  },
  {
   "cell_type": "code",
   "execution_count": null,
   "metadata": {},
   "outputs": [],
   "source": [
    "#"
   ]
  },
  {
   "cell_type": "markdown",
   "metadata": {},
   "source": [
    "Broadcasting will extend row and column vectors into a matrix.\n",
    "Try `(1:10) .+ (1:10)'`  (Note the `'`, this is the transpose operator)"
   ]
  },
  {
   "cell_type": "code",
   "execution_count": 1,
   "metadata": {},
   "outputs": [
    {
     "data": {
      "text/plain": [
       "10×10 Matrix{Int64}:\n",
       "  2   3   4   5   6   7   8   9  10  11\n",
       "  3   4   5   6   7   8   9  10  11  12\n",
       "  4   5   6   7   8   9  10  11  12  13\n",
       "  5   6   7   8   9  10  11  12  13  14\n",
       "  6   7   8   9  10  11  12  13  14  15\n",
       "  7   8   9  10  11  12  13  14  15  16\n",
       "  8   9  10  11  12  13  14  15  16  17\n",
       "  9  10  11  12  13  14  15  16  17  18\n",
       " 10  11  12  13  14  15  16  17  18  19\n",
       " 11  12  13  14  15  16  17  18  19  20"
      ]
     },
     "execution_count": 1,
     "metadata": {},
     "output_type": "execute_result"
    }
   ],
   "source": [
    "(1:10) .+ (1:10)'"
   ]
  },
  {
   "cell_type": "markdown",
   "metadata": {
    "name": "A slide ",
    "slideshow": {
     "slide_type": "subslide"
    }
   },
   "source": [
    "### Functions: dot-syntax exercise\n",
    "\n",
    "Evaluate the function `sin(x) + cos(y)` for\n",
    "`x = 0:0.1:pi` and `y = -pi:0.1:pi`.  Remember to use `'` to broadcast to a matrix."
   ]
  },
  {
   "cell_type": "code",
   "execution_count": 2,
   "metadata": {},
   "outputs": [
    {
     "data": {
      "text/plain": [
       "2-element Vector{Float64}:\n",
       " 1.3817732906760363\n",
       " 0.4931505902785393"
      ]
     },
     "execution_count": 2,
     "metadata": {},
     "output_type": "execute_result"
    }
   ],
   "source": [
    "@. sin([1,2]) + cos([1,2])"
   ]
  },
  {
   "cell_type": "markdown",
   "metadata": {
    "name": "A slide ",
    "slideshow": {
     "slide_type": "subslide"
    }
   },
   "source": [
    "### Functions: anonymous functions\n",
    "\n",
    "So far our function got a name with the definition. They can also be defined without name.\n",
    "\n",
    "See [https://docs.julialang.org/en/v1/manual/functions/#man-anonymous-functions](https://docs.julialang.org/en/v1/manual/functions/#man-anonymous-functions)"
   ]
  },
  {
   "cell_type": "code",
   "execution_count": null,
   "metadata": {},
   "outputs": [],
   "source": [
    "map(x -> sin(x) + cos(x), 1:10)"
   ]
  },
  {
   "cell_type": "markdown",
   "metadata": {
    "name": "A slide ",
    "slideshow": {
     "slide_type": "subslide"
    }
   },
   "source": [
    "### Key feature: multiple dispatch functions\n",
    "\n",
    "- Julia is not an object oriented language\n",
    "\n",
    "OO:\n",
    "- methods belong to objects\n",
    "- method is selected based on first argument (e.g. `self` in Python)\n",
    "\n",
    "Multiple dispatch:\n",
    "- methods are separate from objects\n",
    "- are selected based on all arguments\n",
    "- similar to overloading but method selection occurs at runtime and not compile-time (see also video below)\n",
    "> very natural for mathematical programming\n",
    "\n",
    "JuliaCon 2019 presentation on the subject by Stefan Karpinski\n",
    "(co-creator of Julia):\n",
    "\n",
    "[\"The Unreasonable Effectiveness of Multiple Dispatch\"](https://www.youtube.com/watch?v=kc9HwsxE1OY)"
   ]
  },
  {
   "cell_type": "markdown",
   "metadata": {
    "name": "A slide ",
    "slideshow": {
     "slide_type": "subslide"
    }
   },
   "source": [
    "## Functions: Multiple dispatch demo"
   ]
  },
  {
   "cell_type": "code",
   "execution_count": 3,
   "metadata": {},
   "outputs": [
    {
     "data": {
      "text/plain": [
       "\"Rock wins\""
      ]
     },
     "execution_count": 3,
     "metadata": {},
     "output_type": "execute_result"
    }
   ],
   "source": [
    "struct Rock end\n",
    "struct Paper end\n",
    "struct Scissors end\n",
    "### of course structs could have fields as well\n",
    "# struct Rock\n",
    "#     color\n",
    "#     name::String\n",
    "#     density::Float64\n",
    "# end\n",
    "\n",
    "# define multi-method\n",
    "play(::Rock, ::Paper) = \"Paper wins\"\n",
    "play(::Rock, ::Scissors) = \"Rock wins\"\n",
    "play(::Scissors, ::Paper) = \"Scissors wins\"\n",
    "play(a::Any, b::Any) = play(b, a) # commutative\n",
    "\n",
    "play(Scissors(), Rock())"
   ]
  },
  {
   "cell_type": "markdown",
   "metadata": {
    "name": "A slide ",
    "slideshow": {
     "slide_type": "subslide"
    }
   },
   "source": [
    "### Multiple dispatch demo\n",
    "Can easily be extended later\n",
    "\n",
    "with new type:"
   ]
  },
  {
   "cell_type": "code",
   "execution_count": 5,
   "metadata": {},
   "outputs": [
    {
     "data": {
      "text/plain": [
       "\"Pond wins\""
      ]
     },
     "execution_count": 5,
     "metadata": {},
     "output_type": "execute_result"
    }
   ],
   "source": [
    "struct Pond end\n",
    "play(::Rock, ::Pond) = \"Pond wins\"\n",
    "play(::Paper, ::Pond) = \"Paper wins\"\n",
    "play(::Scissors, ::Pond) = \"Pond wins\"\n",
    "\n",
    "play(Scissors(), Pond())"
   ]
  },
  {
   "cell_type": "markdown",
   "metadata": {
    "name": "A slide ",
    "slideshow": {
     "slide_type": "fragment"
    }
   },
   "source": [
    "with new function:"
   ]
  },
  {
   "cell_type": "code",
   "execution_count": null,
   "metadata": {},
   "outputs": [],
   "source": [
    "combine(::Rock, ::Paper) = \"Paperweight\"\n",
    "combine(::Paper, ::Scissors) = \"Two pieces of papers\"\n",
    "# ...\n",
    "\n",
    "combine(Rock(), Paper())"
   ]
  },
  {
   "cell_type": "markdown",
   "metadata": {
    "name": "A slide ",
    "slideshow": {
     "slide_type": "fragment"
    }
   },
   "source": [
    "*Multiple dispatch makes Julia packages very composable!*\n",
    "\n",
    "This is a key characteristic of the Julia package ecosystem."
   ]
  }
 ],
 "metadata": {
  "kernelspec": {
   "display_name": "Julia 1.11.4",
   "language": "julia",
   "name": "julia-1.11"
  },
  "language_info": {
   "file_extension": ".jl",
   "mimetype": "application/julia",
   "name": "julia",
   "version": "1.11.4"
  }
 },
 "nbformat": 4,
 "nbformat_minor": 4
}
