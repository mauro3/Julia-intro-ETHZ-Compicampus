{
 "cells": [
  {
   "cell_type": "markdown",
   "source": [
    "## Plotting with Julia (using GLMmakie.jl)\n",
    "\n",
    "There are many plotting packages out there.  Maybe the main ones:\n",
    "- Plots.jl -- the old standard\n",
    "- Makie.jl -- the new kid on the block\n",
    "\n",
    "Also, if you come from Python: `PythonPlot.jl` might be good, wrapping matplotlib."
   ],
   "metadata": {
    "name": "A slide ",
    "slideshow": {
     "slide_type": "slide"
    }
   }
  },
  {
   "cell_type": "markdown",
   "source": [
    "Installation: see `julia-packages.jl`\n",
    "\n",
    "Simple plots\n",
    "- `plot` tries to plot the right thing"
   ],
   "metadata": {
    "name": "A slide ",
    "slideshow": {
     "slide_type": "slide"
    }
   }
  },
  {
   "outputs": [],
   "cell_type": "code",
   "source": [
    "using GLMakie\n",
    "\n",
    "plot(1:3)  # a scatter plot, for a line use `line`\n",
    "A = rand(50, 50);\n",
    "...  ## try heatmap"
   ],
   "metadata": {},
   "execution_count": null
  },
  {
   "cell_type": "markdown",
   "source": [
    "The docs are [https://docs.makie.org/stable](https://docs.makie.org/stable/)"
   ],
   "metadata": {
    "name": "A slide ",
    "slideshow": {
     "slide_type": "slide"
    }
   }
  },
  {
   "cell_type": "markdown",
   "source": [
    "Plot two plots into one figure"
   ],
   "metadata": {}
  },
  {
   "outputs": [],
   "cell_type": "code",
   "source": [
    "f = Figure()\n",
    "scatter(f[1, 1], rand(100, 2))\n",
    "lines(f[1, 2], cumsum(randn(100)))"
   ],
   "metadata": {},
   "execution_count": null
  },
  {
   "cell_type": "markdown",
   "source": [
    "More customisation: axis labels, subplot titles, mutating the plot"
   ],
   "metadata": {}
  },
  {
   "outputs": [],
   "cell_type": "code",
   "source": [
    "ax = Axis(f[2, 1]; xlabel=\"x\", ylabel=\"y\", title=\"subplot\")\n",
    "lines!(ax, cumsum(randn(20)); label=\"line\", linewidth=3, color=:red)\n",
    "scatter!(ax, cumsum(randn(20)); label=\"scatter\", marker=:cross, markersize=rand(5:20, 20))\n",
    "axislegend(ax)"
   ],
   "metadata": {},
   "execution_count": null
  }
 ],
 "nbformat_minor": 3,
 "metadata": {
  "language_info": {
   "file_extension": ".jl",
   "mimetype": "application/julia",
   "name": "julia",
   "version": "1.11.4"
  },
  "kernelspec": {
   "name": "julia-1.11",
   "display_name": "Julia 1.11.4",
   "language": "julia"
  }
 },
 "nbformat": 4
}
