{
 "cells": [
  {
   "cell_type": "markdown",
   "source": [
    "## Plotting with Julia (using Plots.jl)\n",
    "\n",
    "There are many plotting packages out there.  Maybe the main ones:\n",
    "- Plots.jl -- the old standard\n",
    "- Makie.jl -- the new kid on the block\n",
    "\n",
    "Also, if you come from Python: `PythonPlot.jl` might be good, wrapping matplotlib."
   ],
   "metadata": {
    "name": "A slide ",
    "slideshow": {
     "slide_type": "slide"
    }
   }
  },
  {
   "cell_type": "markdown",
   "source": [
    "Installation: see `julia-packages.jl`\n",
    "\n",
    "Simple plots\n",
    "- `plot` tries to plot the right thing"
   ],
   "metadata": {
    "name": "A slide ",
    "slideshow": {
     "slide_type": "slide"
    }
   }
  },
  {
   "outputs": [],
   "cell_type": "code",
   "source": [
    "using Plots\n",
    "\n",
    "plot(1:3)  # a line\n",
    "A = rand(50,50);\n",
    "...  ## try heatmap"
   ],
   "metadata": {},
   "execution_count": null
  },
  {
   "cell_type": "markdown",
   "source": [
    "The docs are [https://docs.juliaplots.org/stable/](https://docs.juliaplots.org/stable/)\n",
    "\n",
    "Important:\n",
    "- [basics](https://docs.juliaplots.org/stable/basics/)\n",
    "- [layouts](https://docs.juliaplots.org/stable/layouts/)\n",
    "- [attributes](https://docs.juliaplots.org/stable/attributes/) (this I usually have open and search for stuff)"
   ],
   "metadata": {
    "name": "A slide ",
    "slideshow": {
     "slide_type": "slide"
    }
   }
  },
  {
   "cell_type": "markdown",
   "source": [
    "Plot two plots into one figure"
   ],
   "metadata": {}
  },
  {
   "outputs": [],
   "cell_type": "code",
   "source": [
    "plot(plot(1:3),\n",
    "     plot(rand(5,6))\n",
    "     )\n",
    "\n",
    "# check `layout` attribute and make a figure of a 4x4 plots"
   ],
   "metadata": {},
   "execution_count": null
  }
 ],
 "nbformat_minor": 3,
 "metadata": {
  "language_info": {
   "file_extension": ".jl",
   "mimetype": "application/julia",
   "name": "julia",
   "version": "1.10.2"
  },
  "kernelspec": {
   "name": "julia-1.10",
   "display_name": "Julia 1.10.2",
   "language": "julia"
  }
 },
 "nbformat": 4
}
