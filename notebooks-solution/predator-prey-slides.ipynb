{
 "cells": [
  {
   "cell_type": "markdown",
   "source": [
    "### 🔨 Hands-on II: implementing predator-prey model\n",
    "\n",
    "Let's do some scientific programming in Julia!"
   ],
   "metadata": {
    "name": "A slide ",
    "slideshow": {
     "slide_type": "slide"
    }
   }
  },
  {
   "cell_type": "markdown",
   "source": [
    "- we'll implement the so-called predator-prey model\n",
    "- it describes the dynamics of a biological system with two interacting species"
   ],
   "metadata": {
    "name": "A slide ",
    "slideshow": {
     "slide_type": "fragment"
    }
   }
  },
  {
   "cell_type": "markdown",
   "source": [
    "- a predator 🦊 ..."
   ],
   "metadata": {
    "name": "A slide ",
    "slideshow": {
     "slide_type": "fragment"
    }
   }
  },
  {
   "cell_type": "markdown",
   "source": [
    "- and a prey 🐰"
   ],
   "metadata": {
    "name": "A slide ",
    "slideshow": {
     "slide_type": "fragment"
    }
   }
  },
  {
   "cell_type": "markdown",
   "source": [
    "### Lotka-Volterra model\n",
    "\n",
    "The predator-prey system can be described as a system of ODEs, called a _Lotka-Volterra model_:\n",
    "\n",
    "$$\n",
    "\\frac{\\mathrm{d}}{\\mathrm{d}t}🐰 = \\alpha \\cdot 🐰 - \\beta \\cdot 🐰 \\cdot 🦊\n",
    "$$\n",
    "\n",
    "$$\n",
    "\\frac{\\mathrm{d}}{\\mathrm{d}t}🦊 = \\delta \\cdot 🐰 \\cdot 🦊 - \\gamma \\cdot 🦊\n",
    "$$\n",
    "\n",
    "- $\\alpha$ and $\\gamma$ are prey's growth rate and predator's death rate\n",
    "- $\\beta$ and $\\delta$ are interaction parameters between species"
   ],
   "metadata": {
    "name": "A slide ",
    "slideshow": {
     "slide_type": "slide"
    }
   }
  },
  {
   "cell_type": "markdown",
   "source": [
    "### Expected output\n",
    "\n",
    "<img src=\"./figures/l1_predator-prey.png\" alt=\"predator-prey\" width=\"80%\"/>"
   ],
   "metadata": {
    "name": "A slide ",
    "slideshow": {
     "slide_type": "slide"
    }
   }
  },
  {
   "cell_type": "markdown",
   "source": [
    "### Project structure\n",
    "\n",
    "- the boilerplate code for the project is in `project/PredatorPrey.jl`\n",
    "  - the functions solving the ODEs are in the `src/` folder\n",
    "  - the script for model setup, execution, and visualisation is in the `scripts/` folder"
   ],
   "metadata": {
    "name": "A slide ",
    "slideshow": {
     "slide_type": "slide"
    }
   }
  },
  {
   "cell_type": "markdown",
   "source": [
    "- the solution with all the dots filled is in `project-solution/PredatorPrey.jl`"
   ],
   "metadata": {
    "name": "A slide ",
    "slideshow": {
     "slide_type": "fragment"
    }
   }
  },
  {
   "cell_type": "markdown",
   "source": [
    "### Tasks\n",
    "\n",
    "1. Implement the right-hand side of Lotka-Volterra system inside the functions `d🐰_dt`, `d🦊_dt`, and `predator_prey` in the file `src/PredatorPrey.jl`\n",
    "\n",
    "> Comment out the remaining functions in the file `src/PredatorPrey.jl` so that the module compiles\n",
    "\n",
    "2. Open `scripts/main.jl` and implement the time integration loop within the file\n",
    "    1. Measure the execution time with the `@time` macro\n",
    "    2. Experiment with the time step by changing `nt`, see how the solution changes with decreasing `Δt`\n",
    "\n",
    "    > The implementation is very similar to the one for the Lorenz attractor from the introduction"
   ],
   "metadata": {
    "name": "A slide ",
    "slideshow": {
     "slide_type": "slide"
    }
   }
  },
  {
   "cell_type": "markdown",
   "source": [
    "3. Implement non-allocating version of the time integration in the function `integrate!` in the file `src/PredatorPrey.jl`\n",
    "    1. Split the line within the time loop into two, updating the population of each species independently\n",
    "    2. Call `integrate!` from the main script, time the results with the `@time` macro, compare to the execution time in the global scope\n",
    "    3. Replace `out[it-1, 1]` with `out[it, 1]` in the second line (update rule for `out[it, 2]`) to make the integration semi-implicit\n",
    "\n",
    "## Resources\n",
    "Read the [performance tips](https://docs.julialang.org/en/v1/manual/performance-tips/#man-performance-tips)!"
   ],
   "metadata": {
    "name": "A slide ",
    "slideshow": {
     "slide_type": "slide"
    }
   }
  }
 ],
 "nbformat_minor": 3,
 "metadata": {
  "language_info": {
   "file_extension": ".jl",
   "mimetype": "application/julia",
   "name": "julia",
   "version": "1.11.4"
  },
  "kernelspec": {
   "name": "julia-1.11",
   "display_name": "Julia 1.11.4",
   "language": "julia"
  }
 },
 "nbformat": 4
}
